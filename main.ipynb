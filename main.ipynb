{
 "cells": [
  {
   "cell_type": "markdown",
   "metadata": {},
   "source": [
    "# Data Collection/Cleaning/Preparation"
   ]
  },
  {
   "cell_type": "markdown",
   "metadata": {},
   "source": [
    "## Collection"
   ]
  },
  {
   "cell_type": "code",
   "execution_count": 114,
   "metadata": {},
   "outputs": [],
   "source": [
    "import numpy as np\n",
    "import pandas as pd"
   ]
  },
  {
   "cell_type": "code",
   "execution_count": 115,
   "metadata": {},
   "outputs": [],
   "source": [
    "# pd.set_option('display.max_columns', None)\n",
    "# pd.set_option('display.max_rows', None)"
   ]
  },
  {
   "cell_type": "code",
   "execution_count": 116,
   "metadata": {},
   "outputs": [],
   "source": [
    "netflix_movies_df = pd.read_csv('./data/netflix_titles.csv')\n",
    "amazon_movies_df = pd.read_csv('./data/amazon_titles.csv')\n",
    "disney_movies_df = pd.read_csv('./data/disney_titles.csv')\n",
    "hbo_movies_df = pd.read_csv('./data/hbo_titles.csv')\n",
    "hulu_movies_df = pd.read_csv('./data/hulu_titles.csv')\n",
    "paramount_movies_df = pd.read_csv('./data/paramount_titles.csv')"
   ]
  },
  {
   "cell_type": "code",
   "execution_count": 117,
   "metadata": {},
   "outputs": [
    {
     "data": {
      "text/html": [
       "<div>\n",
       "<style scoped>\n",
       "    .dataframe tbody tr th:only-of-type {\n",
       "        vertical-align: middle;\n",
       "    }\n",
       "\n",
       "    .dataframe tbody tr th {\n",
       "        vertical-align: top;\n",
       "    }\n",
       "\n",
       "    .dataframe thead th {\n",
       "        text-align: right;\n",
       "    }\n",
       "</style>\n",
       "<table border=\"1\" class=\"dataframe\">\n",
       "  <thead>\n",
       "    <tr style=\"text-align: right;\">\n",
       "      <th></th>\n",
       "      <th>id</th>\n",
       "      <th>title</th>\n",
       "      <th>type</th>\n",
       "      <th>description</th>\n",
       "      <th>release_year</th>\n",
       "      <th>age_certification</th>\n",
       "      <th>runtime</th>\n",
       "      <th>genres</th>\n",
       "      <th>production_countries</th>\n",
       "      <th>seasons</th>\n",
       "      <th>imdb_id</th>\n",
       "      <th>imdb_score</th>\n",
       "      <th>imdb_votes</th>\n",
       "      <th>tmdb_popularity</th>\n",
       "      <th>tmdb_score</th>\n",
       "    </tr>\n",
       "  </thead>\n",
       "  <tbody>\n",
       "    <tr>\n",
       "      <th>0</th>\n",
       "      <td>ts300399</td>\n",
       "      <td>Five Came Back: The Reference Films</td>\n",
       "      <td>SHOW</td>\n",
       "      <td>This collection includes 12 World War II-era p...</td>\n",
       "      <td>1945</td>\n",
       "      <td>TV-MA</td>\n",
       "      <td>51</td>\n",
       "      <td>['documentation']</td>\n",
       "      <td>['US']</td>\n",
       "      <td>1.0</td>\n",
       "      <td>NaN</td>\n",
       "      <td>NaN</td>\n",
       "      <td>NaN</td>\n",
       "      <td>0.600</td>\n",
       "      <td>NaN</td>\n",
       "    </tr>\n",
       "    <tr>\n",
       "      <th>1</th>\n",
       "      <td>tm84618</td>\n",
       "      <td>Taxi Driver</td>\n",
       "      <td>MOVIE</td>\n",
       "      <td>A mentally unstable Vietnam War veteran works ...</td>\n",
       "      <td>1976</td>\n",
       "      <td>R</td>\n",
       "      <td>114</td>\n",
       "      <td>['drama', 'crime']</td>\n",
       "      <td>['US']</td>\n",
       "      <td>NaN</td>\n",
       "      <td>tt0075314</td>\n",
       "      <td>8.2</td>\n",
       "      <td>808582.0</td>\n",
       "      <td>40.965</td>\n",
       "      <td>8.179</td>\n",
       "    </tr>\n",
       "    <tr>\n",
       "      <th>2</th>\n",
       "      <td>tm154986</td>\n",
       "      <td>Deliverance</td>\n",
       "      <td>MOVIE</td>\n",
       "      <td>Intent on seeing the Cahulawassee River before...</td>\n",
       "      <td>1972</td>\n",
       "      <td>R</td>\n",
       "      <td>109</td>\n",
       "      <td>['drama', 'action', 'thriller', 'european']</td>\n",
       "      <td>['US']</td>\n",
       "      <td>NaN</td>\n",
       "      <td>tt0068473</td>\n",
       "      <td>7.7</td>\n",
       "      <td>107673.0</td>\n",
       "      <td>10.010</td>\n",
       "      <td>7.300</td>\n",
       "    </tr>\n",
       "    <tr>\n",
       "      <th>3</th>\n",
       "      <td>tm127384</td>\n",
       "      <td>Monty Python and the Holy Grail</td>\n",
       "      <td>MOVIE</td>\n",
       "      <td>King Arthur, accompanied by his squire, recrui...</td>\n",
       "      <td>1975</td>\n",
       "      <td>PG</td>\n",
       "      <td>91</td>\n",
       "      <td>['fantasy', 'action', 'comedy']</td>\n",
       "      <td>['GB']</td>\n",
       "      <td>NaN</td>\n",
       "      <td>tt0071853</td>\n",
       "      <td>8.2</td>\n",
       "      <td>534486.0</td>\n",
       "      <td>15.461</td>\n",
       "      <td>7.811</td>\n",
       "    </tr>\n",
       "    <tr>\n",
       "      <th>4</th>\n",
       "      <td>tm120801</td>\n",
       "      <td>The Dirty Dozen</td>\n",
       "      <td>MOVIE</td>\n",
       "      <td>12 American military prisoners in World War II...</td>\n",
       "      <td>1967</td>\n",
       "      <td>NaN</td>\n",
       "      <td>150</td>\n",
       "      <td>['war', 'action']</td>\n",
       "      <td>['GB', 'US']</td>\n",
       "      <td>NaN</td>\n",
       "      <td>tt0061578</td>\n",
       "      <td>7.7</td>\n",
       "      <td>72662.0</td>\n",
       "      <td>20.398</td>\n",
       "      <td>7.600</td>\n",
       "    </tr>\n",
       "    <tr>\n",
       "      <th>5</th>\n",
       "      <td>ts22164</td>\n",
       "      <td>Monty Python's Flying Circus</td>\n",
       "      <td>SHOW</td>\n",
       "      <td>A British sketch comedy series with the shows ...</td>\n",
       "      <td>1969</td>\n",
       "      <td>TV-14</td>\n",
       "      <td>30</td>\n",
       "      <td>['comedy', 'european']</td>\n",
       "      <td>['GB']</td>\n",
       "      <td>4.0</td>\n",
       "      <td>tt0063929</td>\n",
       "      <td>8.8</td>\n",
       "      <td>73424.0</td>\n",
       "      <td>17.617</td>\n",
       "      <td>8.306</td>\n",
       "    </tr>\n",
       "    <tr>\n",
       "      <th>6</th>\n",
       "      <td>tm70993</td>\n",
       "      <td>Life of Brian</td>\n",
       "      <td>MOVIE</td>\n",
       "      <td>Brian Cohen is an average young Jewish man, bu...</td>\n",
       "      <td>1979</td>\n",
       "      <td>R</td>\n",
       "      <td>94</td>\n",
       "      <td>['comedy']</td>\n",
       "      <td>['GB']</td>\n",
       "      <td>NaN</td>\n",
       "      <td>tt0079470</td>\n",
       "      <td>8.0</td>\n",
       "      <td>395024.0</td>\n",
       "      <td>17.770</td>\n",
       "      <td>7.800</td>\n",
       "    </tr>\n",
       "    <tr>\n",
       "      <th>7</th>\n",
       "      <td>tm14873</td>\n",
       "      <td>Dirty Harry</td>\n",
       "      <td>MOVIE</td>\n",
       "      <td>When a madman dubbed 'Scorpio' terrorizes San ...</td>\n",
       "      <td>1971</td>\n",
       "      <td>R</td>\n",
       "      <td>102</td>\n",
       "      <td>['thriller', 'action', 'crime']</td>\n",
       "      <td>['US']</td>\n",
       "      <td>NaN</td>\n",
       "      <td>tt0066999</td>\n",
       "      <td>7.7</td>\n",
       "      <td>155051.0</td>\n",
       "      <td>12.817</td>\n",
       "      <td>7.500</td>\n",
       "    </tr>\n",
       "    <tr>\n",
       "      <th>8</th>\n",
       "      <td>tm119281</td>\n",
       "      <td>Bonnie and Clyde</td>\n",
       "      <td>MOVIE</td>\n",
       "      <td>In the 1930s, bored waitress Bonnie Parker fal...</td>\n",
       "      <td>1967</td>\n",
       "      <td>R</td>\n",
       "      <td>110</td>\n",
       "      <td>['crime', 'drama', 'action']</td>\n",
       "      <td>['US']</td>\n",
       "      <td>NaN</td>\n",
       "      <td>tt0061418</td>\n",
       "      <td>7.7</td>\n",
       "      <td>112048.0</td>\n",
       "      <td>15.687</td>\n",
       "      <td>7.500</td>\n",
       "    </tr>\n",
       "    <tr>\n",
       "      <th>9</th>\n",
       "      <td>tm98978</td>\n",
       "      <td>The Blue Lagoon</td>\n",
       "      <td>MOVIE</td>\n",
       "      <td>Two small children and a ship's cook survive a...</td>\n",
       "      <td>1980</td>\n",
       "      <td>R</td>\n",
       "      <td>104</td>\n",
       "      <td>['romance', 'action', 'drama']</td>\n",
       "      <td>['US']</td>\n",
       "      <td>NaN</td>\n",
       "      <td>tt0080453</td>\n",
       "      <td>5.8</td>\n",
       "      <td>69844.0</td>\n",
       "      <td>50.324</td>\n",
       "      <td>6.156</td>\n",
       "    </tr>\n",
       "  </tbody>\n",
       "</table>\n",
       "</div>"
      ],
      "text/plain": [
       "         id                                title   type  \\\n",
       "0  ts300399  Five Came Back: The Reference Films   SHOW   \n",
       "1   tm84618                          Taxi Driver  MOVIE   \n",
       "2  tm154986                          Deliverance  MOVIE   \n",
       "3  tm127384      Monty Python and the Holy Grail  MOVIE   \n",
       "4  tm120801                      The Dirty Dozen  MOVIE   \n",
       "5   ts22164         Monty Python's Flying Circus   SHOW   \n",
       "6   tm70993                        Life of Brian  MOVIE   \n",
       "7   tm14873                          Dirty Harry  MOVIE   \n",
       "8  tm119281                     Bonnie and Clyde  MOVIE   \n",
       "9   tm98978                      The Blue Lagoon  MOVIE   \n",
       "\n",
       "                                         description  release_year  \\\n",
       "0  This collection includes 12 World War II-era p...          1945   \n",
       "1  A mentally unstable Vietnam War veteran works ...          1976   \n",
       "2  Intent on seeing the Cahulawassee River before...          1972   \n",
       "3  King Arthur, accompanied by his squire, recrui...          1975   \n",
       "4  12 American military prisoners in World War II...          1967   \n",
       "5  A British sketch comedy series with the shows ...          1969   \n",
       "6  Brian Cohen is an average young Jewish man, bu...          1979   \n",
       "7  When a madman dubbed 'Scorpio' terrorizes San ...          1971   \n",
       "8  In the 1930s, bored waitress Bonnie Parker fal...          1967   \n",
       "9  Two small children and a ship's cook survive a...          1980   \n",
       "\n",
       "  age_certification  runtime                                       genres  \\\n",
       "0             TV-MA       51                            ['documentation']   \n",
       "1                 R      114                           ['drama', 'crime']   \n",
       "2                 R      109  ['drama', 'action', 'thriller', 'european']   \n",
       "3                PG       91              ['fantasy', 'action', 'comedy']   \n",
       "4               NaN      150                            ['war', 'action']   \n",
       "5             TV-14       30                       ['comedy', 'european']   \n",
       "6                 R       94                                   ['comedy']   \n",
       "7                 R      102              ['thriller', 'action', 'crime']   \n",
       "8                 R      110                 ['crime', 'drama', 'action']   \n",
       "9                 R      104               ['romance', 'action', 'drama']   \n",
       "\n",
       "  production_countries  seasons    imdb_id  imdb_score  imdb_votes  \\\n",
       "0               ['US']      1.0        NaN         NaN         NaN   \n",
       "1               ['US']      NaN  tt0075314         8.2    808582.0   \n",
       "2               ['US']      NaN  tt0068473         7.7    107673.0   \n",
       "3               ['GB']      NaN  tt0071853         8.2    534486.0   \n",
       "4         ['GB', 'US']      NaN  tt0061578         7.7     72662.0   \n",
       "5               ['GB']      4.0  tt0063929         8.8     73424.0   \n",
       "6               ['GB']      NaN  tt0079470         8.0    395024.0   \n",
       "7               ['US']      NaN  tt0066999         7.7    155051.0   \n",
       "8               ['US']      NaN  tt0061418         7.7    112048.0   \n",
       "9               ['US']      NaN  tt0080453         5.8     69844.0   \n",
       "\n",
       "   tmdb_popularity  tmdb_score  \n",
       "0            0.600         NaN  \n",
       "1           40.965       8.179  \n",
       "2           10.010       7.300  \n",
       "3           15.461       7.811  \n",
       "4           20.398       7.600  \n",
       "5           17.617       8.306  \n",
       "6           17.770       7.800  \n",
       "7           12.817       7.500  \n",
       "8           15.687       7.500  \n",
       "9           50.324       6.156  "
      ]
     },
     "execution_count": 117,
     "metadata": {},
     "output_type": "execute_result"
    }
   ],
   "source": [
    "netflix_movies_df.head(10)"
   ]
  },
  {
   "cell_type": "code",
   "execution_count": 118,
   "metadata": {},
   "outputs": [],
   "source": [
    "netflix_movies_df['platform'] = 'netflix'\n",
    "disney_movies_df['platform'] = 'disney'\n",
    "paramount_movies_df['platform'] = 'paramount'\n",
    "hulu_movies_df['platform'] = 'hulu'\n",
    "hbo_movies_df['platform'] = 'hbo'\n",
    "amazon_movies_df['platform'] = 'amazon'"
   ]
  },
  {
   "cell_type": "code",
   "execution_count": 119,
   "metadata": {},
   "outputs": [
    {
     "data": {
      "text/html": [
       "<div>\n",
       "<style scoped>\n",
       "    .dataframe tbody tr th:only-of-type {\n",
       "        vertical-align: middle;\n",
       "    }\n",
       "\n",
       "    .dataframe tbody tr th {\n",
       "        vertical-align: top;\n",
       "    }\n",
       "\n",
       "    .dataframe thead th {\n",
       "        text-align: right;\n",
       "    }\n",
       "</style>\n",
       "<table border=\"1\" class=\"dataframe\">\n",
       "  <thead>\n",
       "    <tr style=\"text-align: right;\">\n",
       "      <th></th>\n",
       "      <th>id</th>\n",
       "      <th>title</th>\n",
       "      <th>type</th>\n",
       "      <th>description</th>\n",
       "      <th>release_year</th>\n",
       "      <th>age_certification</th>\n",
       "      <th>runtime</th>\n",
       "      <th>genres</th>\n",
       "      <th>production_countries</th>\n",
       "      <th>seasons</th>\n",
       "      <th>imdb_id</th>\n",
       "      <th>imdb_score</th>\n",
       "      <th>imdb_votes</th>\n",
       "      <th>tmdb_popularity</th>\n",
       "      <th>tmdb_score</th>\n",
       "      <th>platform</th>\n",
       "    </tr>\n",
       "  </thead>\n",
       "  <tbody>\n",
       "    <tr>\n",
       "      <th>0</th>\n",
       "      <td>ts20945</td>\n",
       "      <td>The Three Stooges</td>\n",
       "      <td>SHOW</td>\n",
       "      <td>The Three Stooges were an American vaudeville ...</td>\n",
       "      <td>1934</td>\n",
       "      <td>TV-PG</td>\n",
       "      <td>19</td>\n",
       "      <td>['comedy', 'family', 'animation', 'action', 'f...</td>\n",
       "      <td>['US']</td>\n",
       "      <td>26.0</td>\n",
       "      <td>tt0850645</td>\n",
       "      <td>8.6</td>\n",
       "      <td>1092.0</td>\n",
       "      <td>15.424</td>\n",
       "      <td>7.6</td>\n",
       "      <td>amazon</td>\n",
       "    </tr>\n",
       "    <tr>\n",
       "      <th>1</th>\n",
       "      <td>tm19248</td>\n",
       "      <td>The General</td>\n",
       "      <td>MOVIE</td>\n",
       "      <td>During America’s Civil War, Union spies steal ...</td>\n",
       "      <td>1926</td>\n",
       "      <td>NaN</td>\n",
       "      <td>78</td>\n",
       "      <td>['action', 'drama', 'war', 'western', 'comedy'...</td>\n",
       "      <td>['US']</td>\n",
       "      <td>NaN</td>\n",
       "      <td>tt0017925</td>\n",
       "      <td>8.2</td>\n",
       "      <td>89766.0</td>\n",
       "      <td>8.647</td>\n",
       "      <td>8.0</td>\n",
       "      <td>amazon</td>\n",
       "    </tr>\n",
       "    <tr>\n",
       "      <th>2</th>\n",
       "      <td>tm82253</td>\n",
       "      <td>The Best Years of Our Lives</td>\n",
       "      <td>MOVIE</td>\n",
       "      <td>It's the hope that sustains the spirit of ever...</td>\n",
       "      <td>1946</td>\n",
       "      <td>NaN</td>\n",
       "      <td>171</td>\n",
       "      <td>['romance', 'war', 'drama']</td>\n",
       "      <td>['US']</td>\n",
       "      <td>NaN</td>\n",
       "      <td>tt0036868</td>\n",
       "      <td>8.1</td>\n",
       "      <td>63026.0</td>\n",
       "      <td>8.435</td>\n",
       "      <td>7.8</td>\n",
       "      <td>amazon</td>\n",
       "    </tr>\n",
       "    <tr>\n",
       "      <th>3</th>\n",
       "      <td>tm83884</td>\n",
       "      <td>His Girl Friday</td>\n",
       "      <td>MOVIE</td>\n",
       "      <td>Hildy, the journalist former wife of newspaper...</td>\n",
       "      <td>1940</td>\n",
       "      <td>NaN</td>\n",
       "      <td>92</td>\n",
       "      <td>['comedy', 'drama', 'romance']</td>\n",
       "      <td>['US']</td>\n",
       "      <td>NaN</td>\n",
       "      <td>tt0032599</td>\n",
       "      <td>7.8</td>\n",
       "      <td>57835.0</td>\n",
       "      <td>11.270</td>\n",
       "      <td>7.4</td>\n",
       "      <td>amazon</td>\n",
       "    </tr>\n",
       "    <tr>\n",
       "      <th>4</th>\n",
       "      <td>tm56584</td>\n",
       "      <td>In a Lonely Place</td>\n",
       "      <td>MOVIE</td>\n",
       "      <td>An aspiring actress begins to suspect that her...</td>\n",
       "      <td>1950</td>\n",
       "      <td>NaN</td>\n",
       "      <td>94</td>\n",
       "      <td>['thriller', 'drama', 'romance']</td>\n",
       "      <td>['US']</td>\n",
       "      <td>NaN</td>\n",
       "      <td>tt0042593</td>\n",
       "      <td>7.9</td>\n",
       "      <td>30924.0</td>\n",
       "      <td>8.273</td>\n",
       "      <td>7.6</td>\n",
       "      <td>amazon</td>\n",
       "    </tr>\n",
       "    <tr>\n",
       "      <th>5</th>\n",
       "      <td>tm160494</td>\n",
       "      <td>Stagecoach</td>\n",
       "      <td>MOVIE</td>\n",
       "      <td>A group of people traveling on a stagecoach fi...</td>\n",
       "      <td>1939</td>\n",
       "      <td>NaN</td>\n",
       "      <td>96</td>\n",
       "      <td>['western', 'drama']</td>\n",
       "      <td>['US']</td>\n",
       "      <td>NaN</td>\n",
       "      <td>tt0031971</td>\n",
       "      <td>7.8</td>\n",
       "      <td>48149.0</td>\n",
       "      <td>11.786</td>\n",
       "      <td>7.7</td>\n",
       "      <td>amazon</td>\n",
       "    </tr>\n",
       "    <tr>\n",
       "      <th>6</th>\n",
       "      <td>tm87233</td>\n",
       "      <td>It's a Wonderful Life</td>\n",
       "      <td>MOVIE</td>\n",
       "      <td>A holiday favourite for generations...  George...</td>\n",
       "      <td>1946</td>\n",
       "      <td>PG</td>\n",
       "      <td>130</td>\n",
       "      <td>['drama', 'family', 'fantasy', 'romance', 'com...</td>\n",
       "      <td>['US']</td>\n",
       "      <td>NaN</td>\n",
       "      <td>tt0038650</td>\n",
       "      <td>8.6</td>\n",
       "      <td>444243.0</td>\n",
       "      <td>26.495</td>\n",
       "      <td>8.3</td>\n",
       "      <td>amazon</td>\n",
       "    </tr>\n",
       "    <tr>\n",
       "      <th>7</th>\n",
       "      <td>tm19424</td>\n",
       "      <td>Detour</td>\n",
       "      <td>MOVIE</td>\n",
       "      <td>The life of Al Roberts, a pianist in a New Yor...</td>\n",
       "      <td>1945</td>\n",
       "      <td>NaN</td>\n",
       "      <td>66</td>\n",
       "      <td>['thriller', 'drama', 'crime']</td>\n",
       "      <td>['US']</td>\n",
       "      <td>NaN</td>\n",
       "      <td>tt0037638</td>\n",
       "      <td>7.3</td>\n",
       "      <td>17233.0</td>\n",
       "      <td>7.757</td>\n",
       "      <td>7.2</td>\n",
       "      <td>amazon</td>\n",
       "    </tr>\n",
       "    <tr>\n",
       "      <th>8</th>\n",
       "      <td>tm116781</td>\n",
       "      <td>My Man Godfrey</td>\n",
       "      <td>MOVIE</td>\n",
       "      <td>Fifth Avenue socialite Irene Bullock needs a \"...</td>\n",
       "      <td>1936</td>\n",
       "      <td>NaN</td>\n",
       "      <td>95</td>\n",
       "      <td>['comedy', 'romance', 'drama']</td>\n",
       "      <td>['US']</td>\n",
       "      <td>NaN</td>\n",
       "      <td>tt0028010</td>\n",
       "      <td>8.0</td>\n",
       "      <td>23532.0</td>\n",
       "      <td>8.633</td>\n",
       "      <td>7.6</td>\n",
       "      <td>amazon</td>\n",
       "    </tr>\n",
       "    <tr>\n",
       "      <th>9</th>\n",
       "      <td>tm112005</td>\n",
       "      <td>Marihuana</td>\n",
       "      <td>MOVIE</td>\n",
       "      <td>A young girl named Burma attends a beach party...</td>\n",
       "      <td>1936</td>\n",
       "      <td>NaN</td>\n",
       "      <td>57</td>\n",
       "      <td>['crime', 'drama']</td>\n",
       "      <td>['US']</td>\n",
       "      <td>NaN</td>\n",
       "      <td>tt0026683</td>\n",
       "      <td>4.0</td>\n",
       "      <td>864.0</td>\n",
       "      <td>3.748</td>\n",
       "      <td>3.6</td>\n",
       "      <td>amazon</td>\n",
       "    </tr>\n",
       "  </tbody>\n",
       "</table>\n",
       "</div>"
      ],
      "text/plain": [
       "         id                        title   type  \\\n",
       "0   ts20945            The Three Stooges   SHOW   \n",
       "1   tm19248                  The General  MOVIE   \n",
       "2   tm82253  The Best Years of Our Lives  MOVIE   \n",
       "3   tm83884              His Girl Friday  MOVIE   \n",
       "4   tm56584            In a Lonely Place  MOVIE   \n",
       "5  tm160494                   Stagecoach  MOVIE   \n",
       "6   tm87233        It's a Wonderful Life  MOVIE   \n",
       "7   tm19424                       Detour  MOVIE   \n",
       "8  tm116781               My Man Godfrey  MOVIE   \n",
       "9  tm112005                    Marihuana  MOVIE   \n",
       "\n",
       "                                         description  release_year  \\\n",
       "0  The Three Stooges were an American vaudeville ...          1934   \n",
       "1  During America’s Civil War, Union spies steal ...          1926   \n",
       "2  It's the hope that sustains the spirit of ever...          1946   \n",
       "3  Hildy, the journalist former wife of newspaper...          1940   \n",
       "4  An aspiring actress begins to suspect that her...          1950   \n",
       "5  A group of people traveling on a stagecoach fi...          1939   \n",
       "6  A holiday favourite for generations...  George...          1946   \n",
       "7  The life of Al Roberts, a pianist in a New Yor...          1945   \n",
       "8  Fifth Avenue socialite Irene Bullock needs a \"...          1936   \n",
       "9  A young girl named Burma attends a beach party...          1936   \n",
       "\n",
       "  age_certification  runtime  \\\n",
       "0             TV-PG       19   \n",
       "1               NaN       78   \n",
       "2               NaN      171   \n",
       "3               NaN       92   \n",
       "4               NaN       94   \n",
       "5               NaN       96   \n",
       "6                PG      130   \n",
       "7               NaN       66   \n",
       "8               NaN       95   \n",
       "9               NaN       57   \n",
       "\n",
       "                                              genres production_countries  \\\n",
       "0  ['comedy', 'family', 'animation', 'action', 'f...               ['US']   \n",
       "1  ['action', 'drama', 'war', 'western', 'comedy'...               ['US']   \n",
       "2                        ['romance', 'war', 'drama']               ['US']   \n",
       "3                     ['comedy', 'drama', 'romance']               ['US']   \n",
       "4                   ['thriller', 'drama', 'romance']               ['US']   \n",
       "5                               ['western', 'drama']               ['US']   \n",
       "6  ['drama', 'family', 'fantasy', 'romance', 'com...               ['US']   \n",
       "7                     ['thriller', 'drama', 'crime']               ['US']   \n",
       "8                     ['comedy', 'romance', 'drama']               ['US']   \n",
       "9                                 ['crime', 'drama']               ['US']   \n",
       "\n",
       "   seasons    imdb_id  imdb_score  imdb_votes  tmdb_popularity  tmdb_score  \\\n",
       "0     26.0  tt0850645         8.6      1092.0           15.424         7.6   \n",
       "1      NaN  tt0017925         8.2     89766.0            8.647         8.0   \n",
       "2      NaN  tt0036868         8.1     63026.0            8.435         7.8   \n",
       "3      NaN  tt0032599         7.8     57835.0           11.270         7.4   \n",
       "4      NaN  tt0042593         7.9     30924.0            8.273         7.6   \n",
       "5      NaN  tt0031971         7.8     48149.0           11.786         7.7   \n",
       "6      NaN  tt0038650         8.6    444243.0           26.495         8.3   \n",
       "7      NaN  tt0037638         7.3     17233.0            7.757         7.2   \n",
       "8      NaN  tt0028010         8.0     23532.0            8.633         7.6   \n",
       "9      NaN  tt0026683         4.0       864.0            3.748         3.6   \n",
       "\n",
       "  platform  \n",
       "0   amazon  \n",
       "1   amazon  \n",
       "2   amazon  \n",
       "3   amazon  \n",
       "4   amazon  \n",
       "5   amazon  \n",
       "6   amazon  \n",
       "7   amazon  \n",
       "8   amazon  \n",
       "9   amazon  "
      ]
     },
     "execution_count": 119,
     "metadata": {},
     "output_type": "execute_result"
    }
   ],
   "source": [
    "amazon_movies_df.head(10)"
   ]
  },
  {
   "cell_type": "code",
   "execution_count": 120,
   "metadata": {},
   "outputs": [],
   "source": [
    "dfs = [netflix_movies_df, amazon_movies_df, hulu_movies_df, hbo_movies_df, paramount_movies_df, disney_movies_df]\n",
    "\n",
    "movies_df = netflix_movies_df._append(amazon_movies_df, ignore_index = True)._append(hulu_movies_df, ignore_index = True)._append(hbo_movies_df, ignore_index = True)._append(paramount_movies_df, ignore_index = True)._append(disney_movies_df, ignore_index = True)"
   ]
  },
  {
   "cell_type": "code",
   "execution_count": 121,
   "metadata": {},
   "outputs": [
    {
     "data": {
      "text/plain": [
       "(25773, 16)"
      ]
     },
     "execution_count": 121,
     "metadata": {},
     "output_type": "execute_result"
    }
   ],
   "source": [
    "movies_df.shape"
   ]
  },
  {
   "cell_type": "code",
   "execution_count": 122,
   "metadata": {},
   "outputs": [],
   "source": [
    "movies_df = movies_df[movies_df['production_countries'] == '[\\'US\\']']"
   ]
  },
  {
   "cell_type": "code",
   "execution_count": 123,
   "metadata": {},
   "outputs": [],
   "source": [
    "# Replace commas with hyphens in the string\n",
    "movies_df['production_countries'] = movies_df['production_countries'].str.replace('[', '')\n",
    "movies_df['production_countries'] = movies_df['production_countries'].str.replace(']', '')\n",
    "movies_df['production_countries'] = movies_df['production_countries'].str.replace('\\'', '')"
   ]
  },
  {
   "cell_type": "code",
   "execution_count": 124,
   "metadata": {},
   "outputs": [
    {
     "data": {
      "text/html": [
       "<div>\n",
       "<style scoped>\n",
       "    .dataframe tbody tr th:only-of-type {\n",
       "        vertical-align: middle;\n",
       "    }\n",
       "\n",
       "    .dataframe tbody tr th {\n",
       "        vertical-align: top;\n",
       "    }\n",
       "\n",
       "    .dataframe thead th {\n",
       "        text-align: right;\n",
       "    }\n",
       "</style>\n",
       "<table border=\"1\" class=\"dataframe\">\n",
       "  <thead>\n",
       "    <tr style=\"text-align: right;\">\n",
       "      <th></th>\n",
       "      <th>id</th>\n",
       "      <th>title</th>\n",
       "      <th>type</th>\n",
       "      <th>description</th>\n",
       "      <th>release_year</th>\n",
       "      <th>age_certification</th>\n",
       "      <th>runtime</th>\n",
       "      <th>genres</th>\n",
       "      <th>production_countries</th>\n",
       "      <th>seasons</th>\n",
       "      <th>imdb_id</th>\n",
       "      <th>imdb_score</th>\n",
       "      <th>imdb_votes</th>\n",
       "      <th>tmdb_popularity</th>\n",
       "      <th>tmdb_score</th>\n",
       "      <th>platform</th>\n",
       "    </tr>\n",
       "  </thead>\n",
       "  <tbody>\n",
       "    <tr>\n",
       "      <th>0</th>\n",
       "      <td>ts300399</td>\n",
       "      <td>Five Came Back: The Reference Films</td>\n",
       "      <td>SHOW</td>\n",
       "      <td>This collection includes 12 World War II-era p...</td>\n",
       "      <td>1945</td>\n",
       "      <td>TV-MA</td>\n",
       "      <td>51</td>\n",
       "      <td>['documentation']</td>\n",
       "      <td>US</td>\n",
       "      <td>1.0</td>\n",
       "      <td>NaN</td>\n",
       "      <td>NaN</td>\n",
       "      <td>NaN</td>\n",
       "      <td>0.600</td>\n",
       "      <td>NaN</td>\n",
       "      <td>netflix</td>\n",
       "    </tr>\n",
       "    <tr>\n",
       "      <th>1</th>\n",
       "      <td>tm84618</td>\n",
       "      <td>Taxi Driver</td>\n",
       "      <td>MOVIE</td>\n",
       "      <td>A mentally unstable Vietnam War veteran works ...</td>\n",
       "      <td>1976</td>\n",
       "      <td>R</td>\n",
       "      <td>114</td>\n",
       "      <td>['drama', 'crime']</td>\n",
       "      <td>US</td>\n",
       "      <td>NaN</td>\n",
       "      <td>tt0075314</td>\n",
       "      <td>8.2</td>\n",
       "      <td>808582.0</td>\n",
       "      <td>40.965</td>\n",
       "      <td>8.179</td>\n",
       "      <td>netflix</td>\n",
       "    </tr>\n",
       "    <tr>\n",
       "      <th>2</th>\n",
       "      <td>tm154986</td>\n",
       "      <td>Deliverance</td>\n",
       "      <td>MOVIE</td>\n",
       "      <td>Intent on seeing the Cahulawassee River before...</td>\n",
       "      <td>1972</td>\n",
       "      <td>R</td>\n",
       "      <td>109</td>\n",
       "      <td>['drama', 'action', 'thriller', 'european']</td>\n",
       "      <td>US</td>\n",
       "      <td>NaN</td>\n",
       "      <td>tt0068473</td>\n",
       "      <td>7.7</td>\n",
       "      <td>107673.0</td>\n",
       "      <td>10.010</td>\n",
       "      <td>7.300</td>\n",
       "      <td>netflix</td>\n",
       "    </tr>\n",
       "    <tr>\n",
       "      <th>7</th>\n",
       "      <td>tm14873</td>\n",
       "      <td>Dirty Harry</td>\n",
       "      <td>MOVIE</td>\n",
       "      <td>When a madman dubbed 'Scorpio' terrorizes San ...</td>\n",
       "      <td>1971</td>\n",
       "      <td>R</td>\n",
       "      <td>102</td>\n",
       "      <td>['thriller', 'action', 'crime']</td>\n",
       "      <td>US</td>\n",
       "      <td>NaN</td>\n",
       "      <td>tt0066999</td>\n",
       "      <td>7.7</td>\n",
       "      <td>155051.0</td>\n",
       "      <td>12.817</td>\n",
       "      <td>7.500</td>\n",
       "      <td>netflix</td>\n",
       "    </tr>\n",
       "    <tr>\n",
       "      <th>8</th>\n",
       "      <td>tm119281</td>\n",
       "      <td>Bonnie and Clyde</td>\n",
       "      <td>MOVIE</td>\n",
       "      <td>In the 1930s, bored waitress Bonnie Parker fal...</td>\n",
       "      <td>1967</td>\n",
       "      <td>R</td>\n",
       "      <td>110</td>\n",
       "      <td>['crime', 'drama', 'action']</td>\n",
       "      <td>US</td>\n",
       "      <td>NaN</td>\n",
       "      <td>tt0061418</td>\n",
       "      <td>7.7</td>\n",
       "      <td>112048.0</td>\n",
       "      <td>15.687</td>\n",
       "      <td>7.500</td>\n",
       "      <td>netflix</td>\n",
       "    </tr>\n",
       "    <tr>\n",
       "      <th>9</th>\n",
       "      <td>tm98978</td>\n",
       "      <td>The Blue Lagoon</td>\n",
       "      <td>MOVIE</td>\n",
       "      <td>Two small children and a ship's cook survive a...</td>\n",
       "      <td>1980</td>\n",
       "      <td>R</td>\n",
       "      <td>104</td>\n",
       "      <td>['romance', 'action', 'drama']</td>\n",
       "      <td>US</td>\n",
       "      <td>NaN</td>\n",
       "      <td>tt0080453</td>\n",
       "      <td>5.8</td>\n",
       "      <td>69844.0</td>\n",
       "      <td>50.324</td>\n",
       "      <td>6.156</td>\n",
       "      <td>netflix</td>\n",
       "    </tr>\n",
       "    <tr>\n",
       "      <th>11</th>\n",
       "      <td>tm67378</td>\n",
       "      <td>The Professionals</td>\n",
       "      <td>MOVIE</td>\n",
       "      <td>An arrogant Texas millionaire hires four adven...</td>\n",
       "      <td>1966</td>\n",
       "      <td>PG-13</td>\n",
       "      <td>117</td>\n",
       "      <td>['western', 'action', 'european']</td>\n",
       "      <td>US</td>\n",
       "      <td>NaN</td>\n",
       "      <td>tt0060862</td>\n",
       "      <td>7.3</td>\n",
       "      <td>16446.0</td>\n",
       "      <td>13.123</td>\n",
       "      <td>7.100</td>\n",
       "      <td>netflix</td>\n",
       "    </tr>\n",
       "    <tr>\n",
       "      <th>12</th>\n",
       "      <td>tm69997</td>\n",
       "      <td>Richard Pryor: Live in Concert</td>\n",
       "      <td>MOVIE</td>\n",
       "      <td>Richard Pryor delivers monologues on race, sex...</td>\n",
       "      <td>1979</td>\n",
       "      <td>R</td>\n",
       "      <td>78</td>\n",
       "      <td>['comedy', 'documentation']</td>\n",
       "      <td>US</td>\n",
       "      <td>NaN</td>\n",
       "      <td>tt0079807</td>\n",
       "      <td>8.1</td>\n",
       "      <td>5141.0</td>\n",
       "      <td>4.718</td>\n",
       "      <td>7.500</td>\n",
       "      <td>netflix</td>\n",
       "    </tr>\n",
       "    <tr>\n",
       "      <th>13</th>\n",
       "      <td>tm16479</td>\n",
       "      <td>White Christmas</td>\n",
       "      <td>MOVIE</td>\n",
       "      <td>Two talented song-and-dance men team up after ...</td>\n",
       "      <td>1954</td>\n",
       "      <td>NaN</td>\n",
       "      <td>115</td>\n",
       "      <td>['romance', 'comedy']</td>\n",
       "      <td>US</td>\n",
       "      <td>NaN</td>\n",
       "      <td>tt0047673</td>\n",
       "      <td>7.5</td>\n",
       "      <td>42488.0</td>\n",
       "      <td>8.915</td>\n",
       "      <td>7.200</td>\n",
       "      <td>netflix</td>\n",
       "    </tr>\n",
       "    <tr>\n",
       "      <th>16</th>\n",
       "      <td>tm156453</td>\n",
       "      <td>FTA</td>\n",
       "      <td>MOVIE</td>\n",
       "      <td>A documentary about a political troupe headed ...</td>\n",
       "      <td>1972</td>\n",
       "      <td>R</td>\n",
       "      <td>97</td>\n",
       "      <td>['war', 'documentation', 'music', 'comedy']</td>\n",
       "      <td>US</td>\n",
       "      <td>NaN</td>\n",
       "      <td>tt0068562</td>\n",
       "      <td>6.2</td>\n",
       "      <td>418.0</td>\n",
       "      <td>1.268</td>\n",
       "      <td>6.100</td>\n",
       "      <td>netflix</td>\n",
       "    </tr>\n",
       "  </tbody>\n",
       "</table>\n",
       "</div>"
      ],
      "text/plain": [
       "          id                                title   type  \\\n",
       "0   ts300399  Five Came Back: The Reference Films   SHOW   \n",
       "1    tm84618                          Taxi Driver  MOVIE   \n",
       "2   tm154986                          Deliverance  MOVIE   \n",
       "7    tm14873                          Dirty Harry  MOVIE   \n",
       "8   tm119281                     Bonnie and Clyde  MOVIE   \n",
       "9    tm98978                      The Blue Lagoon  MOVIE   \n",
       "11   tm67378                    The Professionals  MOVIE   \n",
       "12   tm69997       Richard Pryor: Live in Concert  MOVIE   \n",
       "13   tm16479                      White Christmas  MOVIE   \n",
       "16  tm156453                                  FTA  MOVIE   \n",
       "\n",
       "                                          description  release_year  \\\n",
       "0   This collection includes 12 World War II-era p...          1945   \n",
       "1   A mentally unstable Vietnam War veteran works ...          1976   \n",
       "2   Intent on seeing the Cahulawassee River before...          1972   \n",
       "7   When a madman dubbed 'Scorpio' terrorizes San ...          1971   \n",
       "8   In the 1930s, bored waitress Bonnie Parker fal...          1967   \n",
       "9   Two small children and a ship's cook survive a...          1980   \n",
       "11  An arrogant Texas millionaire hires four adven...          1966   \n",
       "12  Richard Pryor delivers monologues on race, sex...          1979   \n",
       "13  Two talented song-and-dance men team up after ...          1954   \n",
       "16  A documentary about a political troupe headed ...          1972   \n",
       "\n",
       "   age_certification  runtime                                       genres  \\\n",
       "0              TV-MA       51                            ['documentation']   \n",
       "1                  R      114                           ['drama', 'crime']   \n",
       "2                  R      109  ['drama', 'action', 'thriller', 'european']   \n",
       "7                  R      102              ['thriller', 'action', 'crime']   \n",
       "8                  R      110                 ['crime', 'drama', 'action']   \n",
       "9                  R      104               ['romance', 'action', 'drama']   \n",
       "11             PG-13      117            ['western', 'action', 'european']   \n",
       "12                 R       78                  ['comedy', 'documentation']   \n",
       "13               NaN      115                        ['romance', 'comedy']   \n",
       "16                 R       97  ['war', 'documentation', 'music', 'comedy']   \n",
       "\n",
       "   production_countries  seasons    imdb_id  imdb_score  imdb_votes  \\\n",
       "0                    US      1.0        NaN         NaN         NaN   \n",
       "1                    US      NaN  tt0075314         8.2    808582.0   \n",
       "2                    US      NaN  tt0068473         7.7    107673.0   \n",
       "7                    US      NaN  tt0066999         7.7    155051.0   \n",
       "8                    US      NaN  tt0061418         7.7    112048.0   \n",
       "9                    US      NaN  tt0080453         5.8     69844.0   \n",
       "11                   US      NaN  tt0060862         7.3     16446.0   \n",
       "12                   US      NaN  tt0079807         8.1      5141.0   \n",
       "13                   US      NaN  tt0047673         7.5     42488.0   \n",
       "16                   US      NaN  tt0068562         6.2       418.0   \n",
       "\n",
       "    tmdb_popularity  tmdb_score platform  \n",
       "0             0.600         NaN  netflix  \n",
       "1            40.965       8.179  netflix  \n",
       "2            10.010       7.300  netflix  \n",
       "7            12.817       7.500  netflix  \n",
       "8            15.687       7.500  netflix  \n",
       "9            50.324       6.156  netflix  \n",
       "11           13.123       7.100  netflix  \n",
       "12            4.718       7.500  netflix  \n",
       "13            8.915       7.200  netflix  \n",
       "16            1.268       6.100  netflix  "
      ]
     },
     "execution_count": 124,
     "metadata": {},
     "output_type": "execute_result"
    }
   ],
   "source": [
    "movies_df.head(10)"
   ]
  },
  {
   "cell_type": "code",
   "execution_count": 125,
   "metadata": {},
   "outputs": [
    {
     "data": {
      "text/plain": [
       "(13708, 16)"
      ]
     },
     "execution_count": 125,
     "metadata": {},
     "output_type": "execute_result"
    }
   ],
   "source": [
    "movies_df.shape"
   ]
  },
  {
   "cell_type": "code",
   "execution_count": 126,
   "metadata": {},
   "outputs": [
    {
     "data": {
      "text/plain": [
       "count      13708\n",
       "unique         6\n",
       "top       amazon\n",
       "freq        4810\n",
       "Name: platform, dtype: object"
      ]
     },
     "execution_count": 126,
     "metadata": {},
     "output_type": "execute_result"
    }
   ],
   "source": [
    "movies_df['platform'].describe()"
   ]
  },
  {
   "cell_type": "markdown",
   "metadata": {},
   "source": [
    "## Cleaning"
   ]
  },
  {
   "cell_type": "code",
   "execution_count": 127,
   "metadata": {},
   "outputs": [
    {
     "data": {
      "text/plain": [
       "(13708, 16)"
      ]
     },
     "execution_count": 127,
     "metadata": {},
     "output_type": "execute_result"
    }
   ],
   "source": [
    "movies_df.shape"
   ]
  },
  {
   "cell_type": "code",
   "execution_count": 128,
   "metadata": {},
   "outputs": [
    {
     "data": {
      "text/plain": [
       "Index(['id', 'title', 'type', 'description', 'release_year',\n",
       "       'age_certification', 'runtime', 'genres', 'production_countries',\n",
       "       'seasons', 'imdb_id', 'imdb_score', 'imdb_votes', 'tmdb_popularity',\n",
       "       'tmdb_score', 'platform'],\n",
       "      dtype='object')"
      ]
     },
     "execution_count": 128,
     "metadata": {},
     "output_type": "execute_result"
    }
   ],
   "source": [
    "movies_df.columns"
   ]
  },
  {
   "cell_type": "code",
   "execution_count": 129,
   "metadata": {},
   "outputs": [],
   "source": [
    "movies_df = movies_df[['title', 'type', 'description', 'genres','release_year', 'imdb_score', 'tmdb_score', 'platform']]"
   ]
  },
  {
   "cell_type": "code",
   "execution_count": 130,
   "metadata": {},
   "outputs": [
    {
     "data": {
      "text/plain": [
       "title              0\n",
       "type               0\n",
       "description       31\n",
       "genres             0\n",
       "release_year       0\n",
       "imdb_score      1212\n",
       "tmdb_score      1393\n",
       "platform           0\n",
       "dtype: int64"
      ]
     },
     "execution_count": 130,
     "metadata": {},
     "output_type": "execute_result"
    }
   ],
   "source": [
    "movies_df.isnull().sum()"
   ]
  },
  {
   "cell_type": "code",
   "execution_count": 131,
   "metadata": {},
   "outputs": [],
   "source": [
    "movies_df.dropna(inplace=True)"
   ]
  },
  {
   "cell_type": "code",
   "execution_count": 132,
   "metadata": {},
   "outputs": [
    {
     "data": {
      "text/plain": [
       "(11380, 8)"
      ]
     },
     "execution_count": 132,
     "metadata": {},
     "output_type": "execute_result"
    }
   ],
   "source": [
    "movies_df.shape"
   ]
  },
  {
   "cell_type": "code",
   "execution_count": 133,
   "metadata": {},
   "outputs": [
    {
     "data": {
      "text/plain": [
       "1"
      ]
     },
     "execution_count": 133,
     "metadata": {},
     "output_type": "execute_result"
    }
   ],
   "source": [
    "movies_df.duplicated().sum()"
   ]
  },
  {
   "cell_type": "code",
   "execution_count": 134,
   "metadata": {},
   "outputs": [
    {
     "data": {
      "text/plain": [
       "title                                                 Taxi Driver\n",
       "type                                                        MOVIE\n",
       "description     A mentally unstable Vietnam War veteran works ...\n",
       "genres                                         ['drama', 'crime']\n",
       "release_year                                                 1976\n",
       "imdb_score                                                    8.2\n",
       "tmdb_score                                                  8.179\n",
       "platform                                                  netflix\n",
       "Name: 1, dtype: object"
      ]
     },
     "execution_count": 134,
     "metadata": {},
     "output_type": "execute_result"
    }
   ],
   "source": [
    "movies_df.iloc[0]"
   ]
  },
  {
   "cell_type": "code",
   "execution_count": 135,
   "metadata": {},
   "outputs": [],
   "source": [
    "movies_df = movies_df.groupby(['title', 'type', 'description', 'genres', 'release_year', 'tmdb_score', 'imdb_score'])['platform'].apply(', '.join).reset_index()"
   ]
  },
  {
   "cell_type": "code",
   "execution_count": 136,
   "metadata": {},
   "outputs": [
    {
     "data": {
      "text/html": [
       "<div>\n",
       "<style scoped>\n",
       "    .dataframe tbody tr th:only-of-type {\n",
       "        vertical-align: middle;\n",
       "    }\n",
       "\n",
       "    .dataframe tbody tr th {\n",
       "        vertical-align: top;\n",
       "    }\n",
       "\n",
       "    .dataframe thead th {\n",
       "        text-align: right;\n",
       "    }\n",
       "</style>\n",
       "<table border=\"1\" class=\"dataframe\">\n",
       "  <thead>\n",
       "    <tr style=\"text-align: right;\">\n",
       "      <th></th>\n",
       "      <th>title</th>\n",
       "      <th>type</th>\n",
       "      <th>description</th>\n",
       "      <th>genres</th>\n",
       "      <th>release_year</th>\n",
       "      <th>tmdb_score</th>\n",
       "      <th>imdb_score</th>\n",
       "      <th>platform</th>\n",
       "    </tr>\n",
       "  </thead>\n",
       "  <tbody>\n",
       "    <tr>\n",
       "      <th>5170</th>\n",
       "      <td>Mission: Impossible II</td>\n",
       "      <td>MOVIE</td>\n",
       "      <td>With computer genius Luther Stickell at his si...</td>\n",
       "      <td>['thriller', 'action']</td>\n",
       "      <td>2000</td>\n",
       "      <td>6.1</td>\n",
       "      <td>6.1</td>\n",
       "      <td>netflix</td>\n",
       "    </tr>\n",
       "  </tbody>\n",
       "</table>\n",
       "</div>"
      ],
      "text/plain": [
       "                       title   type  \\\n",
       "5170  Mission: Impossible II  MOVIE   \n",
       "\n",
       "                                            description  \\\n",
       "5170  With computer genius Luther Stickell at his si...   \n",
       "\n",
       "                      genres  release_year  tmdb_score  imdb_score platform  \n",
       "5170  ['thriller', 'action']          2000         6.1         6.1  netflix  "
      ]
     },
     "execution_count": 136,
     "metadata": {},
     "output_type": "execute_result"
    }
   ],
   "source": [
    "movies_df[movies_df['title'] == 'Mission: Impossible II']"
   ]
  },
  {
   "cell_type": "markdown",
   "metadata": {},
   "source": [
    "## Preparation"
   ]
  },
  {
   "cell_type": "code",
   "execution_count": 137,
   "metadata": {},
   "outputs": [
    {
     "data": {
      "text/html": [
       "<div>\n",
       "<style scoped>\n",
       "    .dataframe tbody tr th:only-of-type {\n",
       "        vertical-align: middle;\n",
       "    }\n",
       "\n",
       "    .dataframe tbody tr th {\n",
       "        vertical-align: top;\n",
       "    }\n",
       "\n",
       "    .dataframe thead th {\n",
       "        text-align: right;\n",
       "    }\n",
       "</style>\n",
       "<table border=\"1\" class=\"dataframe\">\n",
       "  <thead>\n",
       "    <tr style=\"text-align: right;\">\n",
       "      <th></th>\n",
       "      <th>title</th>\n",
       "      <th>type</th>\n",
       "      <th>description</th>\n",
       "      <th>genres</th>\n",
       "      <th>release_year</th>\n",
       "      <th>tmdb_score</th>\n",
       "      <th>imdb_score</th>\n",
       "      <th>platform</th>\n",
       "    </tr>\n",
       "  </thead>\n",
       "  <tbody>\n",
       "    <tr>\n",
       "      <th>0</th>\n",
       "      <td>#GeorgeWashington</td>\n",
       "      <td>MOVIE</td>\n",
       "      <td>Meet the Father of Our Country in a whole new ...</td>\n",
       "      <td>['documentation']</td>\n",
       "      <td>2017</td>\n",
       "      <td>4.0</td>\n",
       "      <td>5.3</td>\n",
       "      <td>hbo</td>\n",
       "    </tr>\n",
       "    <tr>\n",
       "      <th>1</th>\n",
       "      <td>#Lucky Number</td>\n",
       "      <td>MOVIE</td>\n",
       "      <td>Made for TV movie based on a true story, an as...</td>\n",
       "      <td>['comedy']</td>\n",
       "      <td>2015</td>\n",
       "      <td>4.8</td>\n",
       "      <td>5.0</td>\n",
       "      <td>amazon</td>\n",
       "    </tr>\n",
       "    <tr>\n",
       "      <th>2</th>\n",
       "      <td>#Rucker50</td>\n",
       "      <td>MOVIE</td>\n",
       "      <td>The celebratory explosion of basketball histor...</td>\n",
       "      <td>['documentation']</td>\n",
       "      <td>2016</td>\n",
       "      <td>3.7</td>\n",
       "      <td>5.2</td>\n",
       "      <td>netflix</td>\n",
       "    </tr>\n",
       "    <tr>\n",
       "      <th>3</th>\n",
       "      <td>#SquadGoals</td>\n",
       "      <td>MOVIE</td>\n",
       "      <td>Ambitious high school senior Samantha Hodges i...</td>\n",
       "      <td>['thriller', 'drama']</td>\n",
       "      <td>2018</td>\n",
       "      <td>4.5</td>\n",
       "      <td>4.2</td>\n",
       "      <td>amazon</td>\n",
       "    </tr>\n",
       "    <tr>\n",
       "      <th>4</th>\n",
       "      <td>#Stuck</td>\n",
       "      <td>MOVIE</td>\n",
       "      <td>A hot one-night stand turns into an awkward mo...</td>\n",
       "      <td>['romance', 'comedy', 'drama']</td>\n",
       "      <td>2014</td>\n",
       "      <td>5.5</td>\n",
       "      <td>5.6</td>\n",
       "      <td>amazon</td>\n",
       "    </tr>\n",
       "  </tbody>\n",
       "</table>\n",
       "</div>"
      ],
      "text/plain": [
       "               title   type  \\\n",
       "0  #GeorgeWashington  MOVIE   \n",
       "1      #Lucky Number  MOVIE   \n",
       "2          #Rucker50  MOVIE   \n",
       "3        #SquadGoals  MOVIE   \n",
       "4             #Stuck  MOVIE   \n",
       "\n",
       "                                         description  \\\n",
       "0  Meet the Father of Our Country in a whole new ...   \n",
       "1  Made for TV movie based on a true story, an as...   \n",
       "2  The celebratory explosion of basketball histor...   \n",
       "3  Ambitious high school senior Samantha Hodges i...   \n",
       "4  A hot one-night stand turns into an awkward mo...   \n",
       "\n",
       "                           genres  release_year  tmdb_score  imdb_score  \\\n",
       "0               ['documentation']          2017         4.0         5.3   \n",
       "1                      ['comedy']          2015         4.8         5.0   \n",
       "2               ['documentation']          2016         3.7         5.2   \n",
       "3           ['thriller', 'drama']          2018         4.5         4.2   \n",
       "4  ['romance', 'comedy', 'drama']          2014         5.5         5.6   \n",
       "\n",
       "  platform  \n",
       "0      hbo  \n",
       "1   amazon  \n",
       "2  netflix  \n",
       "3   amazon  \n",
       "4   amazon  "
      ]
     },
     "execution_count": 137,
     "metadata": {},
     "output_type": "execute_result"
    }
   ],
   "source": [
    "movies_df.head(5)"
   ]
  },
  {
   "cell_type": "markdown",
   "metadata": {},
   "source": [
    "# Machine Learning"
   ]
  },
  {
   "cell_type": "markdown",
   "metadata": {},
   "source": [
    "## Installations"
   ]
  },
  {
   "cell_type": "code",
   "execution_count": 138,
   "metadata": {},
   "outputs": [],
   "source": [
    "from sklearn.feature_extraction.text import CountVectorizer, TfidfTransformer\n",
    "import nltk\n",
    "from nltk.stem.porter import PorterStemmer\n",
    "from sklearn.metrics.pairwise import cosine_similarity"
   ]
  },
  {
   "cell_type": "markdown",
   "metadata": {},
   "source": [
    "## Feature Extraction"
   ]
  },
  {
   "cell_type": "code",
   "execution_count": 139,
   "metadata": {},
   "outputs": [],
   "source": [
    "ps = PorterStemmer()"
   ]
  },
  {
   "cell_type": "code",
   "execution_count": 140,
   "metadata": {},
   "outputs": [],
   "source": [
    "def stem(text):\n",
    "    y=[]\n",
    "    for i in text.split():\n",
    "        y.append(ps.stem(i))\n",
    "    return \" \".join(y)"
   ]
  },
  {
   "cell_type": "code",
   "execution_count": 141,
   "metadata": {},
   "outputs": [],
   "source": [
    "reference_df = movies_df\n",
    "movies_df['description'] = movies_df['description'].apply(stem)\n",
    "movies_df['genres'] = movies_df['genres'].apply(stem)"
   ]
  },
  {
   "cell_type": "code",
   "execution_count": 142,
   "metadata": {},
   "outputs": [],
   "source": [
    "def combine_features(data):\n",
    "    features=[]\n",
    "    for i in range(0, data.shape[0]):\n",
    "        # features.append(data['description'][i] + ' ' + data['genres'][i] + ' ' + str(data['release_year'][i]) + ' ' + str(data['imdb_score'][i]) + ' ' + str(data['tmdb_score'][i]))\n",
    "        features.append(data['description'][i] + ' ' + data['genres'][i] + ' ' + str(data['release_year'][i]))\n",
    "    return features"
   ]
  },
  {
   "cell_type": "code",
   "execution_count": 143,
   "metadata": {},
   "outputs": [],
   "source": [
    "movies_df['combined'] = combine_features(movies_df)"
   ]
  },
  {
   "cell_type": "code",
   "execution_count": 144,
   "metadata": {},
   "outputs": [],
   "source": [
    "cv = CountVectorizer(max_features=100000,stop_words='english')"
   ]
  },
  {
   "cell_type": "code",
   "execution_count": 145,
   "metadata": {},
   "outputs": [],
   "source": [
    "# vectors1 = cv.fit_transform(movies_df['description']).toarray()\n",
    "vectors1 = cv.fit_transform(movies_df['combined'])"
   ]
  },
  {
   "cell_type": "code",
   "execution_count": 146,
   "metadata": {},
   "outputs": [
    {
     "data": {
      "text/plain": [
       "<1x25432 sparse matrix of type '<class 'numpy.int64'>'\n",
       "\twith 25 stored elements in Compressed Sparse Row format>"
      ]
     },
     "execution_count": 146,
     "metadata": {},
     "output_type": "execute_result"
    }
   ],
   "source": [
    "vectors1[0]"
   ]
  },
  {
   "cell_type": "code",
   "execution_count": 147,
   "metadata": {},
   "outputs": [],
   "source": [
    "similarity = cosine_similarity(vectors1)"
   ]
  },
  {
   "cell_type": "code",
   "execution_count": 148,
   "metadata": {},
   "outputs": [
    {
     "data": {
      "text/plain": [
       "(9978, 9978)"
      ]
     },
     "execution_count": 148,
     "metadata": {},
     "output_type": "execute_result"
    }
   ],
   "source": [
    "similarity.shape"
   ]
  },
  {
   "cell_type": "code",
   "execution_count": 149,
   "metadata": {},
   "outputs": [
    {
     "data": {
      "text/plain": [
       "array([1.        , 0.09837388, 0.0352235 , ..., 0.03279129, 0.03335187,\n",
       "       0.0513158 ])"
      ]
     },
     "execution_count": 149,
     "metadata": {},
     "output_type": "execute_result"
    }
   ],
   "source": [
    "similarity[0]"
   ]
  },
  {
   "cell_type": "code",
   "execution_count": 150,
   "metadata": {},
   "outputs": [
    {
     "data": {
      "text/plain": [
       "(9978, 9978)"
      ]
     },
     "execution_count": 150,
     "metadata": {},
     "output_type": "execute_result"
    }
   ],
   "source": [
    "similarity.shape"
   ]
  },
  {
   "cell_type": "code",
   "execution_count": 151,
   "metadata": {},
   "outputs": [
    {
     "data": {
      "text/plain": [
       "[(9645, 0.2884299752006152),\n",
       " (1910, 0.2854716408418839),\n",
       " (9524, 0.27713699773684664),\n",
       " (4116, 0.2657423679108717),\n",
       " (9905, 0.2657423679108717)]"
      ]
     },
     "execution_count": 151,
     "metadata": {},
     "output_type": "execute_result"
    }
   ],
   "source": [
    "sorted(list(enumerate(similarity[0])), reverse=True, key=lambda x:x[1])[1:6]"
   ]
  },
  {
   "cell_type": "markdown",
   "metadata": {},
   "source": [
    "## Recommender"
   ]
  },
  {
   "cell_type": "code",
   "execution_count": 152,
   "metadata": {},
   "outputs": [],
   "source": [
    "def recommend(movies_df, film_type, movie, platforms):\n",
    "    movie_index = movies_df[movies_df['title']==movie].index[0]\n",
    "    distances = similarity[movie_index]\n",
    "    movie_list = sorted(list(enumerate(distances)), reverse=True, key=lambda x:x[1])[1:25]\n",
    "    recommends = []\n",
    "    count = 0\n",
    "    for i in movie_list:\n",
    "        if count != 5:\n",
    "            if movies_df.iloc[i[0]].platform in platforms:\n",
    "                if movies_df.iloc[i[0]].type == film_type:\n",
    "                    recommends.append(movies_df.iloc[i[0]])\n",
    "                    print(movies_df.iloc[i[0]])\n",
    "                    count += 1\n",
    "        else:\n",
    "            break\n",
    "    return recommends"
   ]
  },
  {
   "cell_type": "code",
   "execution_count": 156,
   "metadata": {},
   "outputs": [
    {
     "name": "stdout",
     "output_type": "stream",
     "text": [
      "title                          Lawnmower Man 2: Beyond Cyberspace\n",
      "type                                                        MOVIE\n",
      "description     jobe is resuscit by jonathan walker. he want j...\n",
      "genres                            ['scifi', 'thriller', 'action']\n",
      "release_year                                                 1996\n",
      "tmdb_score                                                    2.9\n",
      "imdb_score                                                    2.5\n",
      "platform                                                      hbo\n",
      "combined        jobe is resuscit by jonathan walker. he want j...\n",
      "Name: 4504, dtype: object\n",
      "title                                           Godzilla vs. Kong\n",
      "type                                                        MOVIE\n",
      "description     in a time when monster walk the earth, humanit...\n",
      "genres                 ['scifi', 'action', 'fantasy', 'thriller']\n",
      "release_year                                                 2021\n",
      "tmdb_score                                                    7.8\n",
      "imdb_score                                                    6.3\n",
      "platform                                                      hbo\n",
      "combined        in a time when monster walk the earth, humanit...\n",
      "Name: 3241, dtype: object\n",
      "title                                          Cocoon: The Return\n",
      "type                                                        MOVIE\n",
      "description     the reinvigor elderli group that left earth co...\n",
      "genres                             ['scifi', 'comedy', 'romance']\n",
      "release_year                                                 1988\n",
      "tmdb_score                                                    6.1\n",
      "imdb_score                                                    5.4\n",
      "platform                                                      hbo\n",
      "combined        the reinvigor elderli group that left earth co...\n",
      "Name: 1852, dtype: object\n",
      "title                                    The Matrix Resurrections\n",
      "type                                                        MOVIE\n",
      "description     plagu by strang memories, neo' life take an un...\n",
      "genres                                        ['scifi', 'action']\n",
      "release_year                                                 2021\n",
      "tmdb_score                                                    6.7\n",
      "imdb_score                                                    5.7\n",
      "platform                                                      hbo\n",
      "combined        plagu by strang memories, neo' life take an un...\n",
      "Name: 8332, dtype: object\n"
     ]
    },
    {
     "data": {
      "text/plain": [
       "[title                          Lawnmower Man 2: Beyond Cyberspace\n",
       " type                                                        MOVIE\n",
       " description     jobe is resuscit by jonathan walker. he want j...\n",
       " genres                            ['scifi', 'thriller', 'action']\n",
       " release_year                                                 1996\n",
       " tmdb_score                                                    2.9\n",
       " imdb_score                                                    2.5\n",
       " platform                                                      hbo\n",
       " combined        jobe is resuscit by jonathan walker. he want j...\n",
       " Name: 4504, dtype: object,\n",
       " title                                           Godzilla vs. Kong\n",
       " type                                                        MOVIE\n",
       " description     in a time when monster walk the earth, humanit...\n",
       " genres                 ['scifi', 'action', 'fantasy', 'thriller']\n",
       " release_year                                                 2021\n",
       " tmdb_score                                                    7.8\n",
       " imdb_score                                                    6.3\n",
       " platform                                                      hbo\n",
       " combined        in a time when monster walk the earth, humanit...\n",
       " Name: 3241, dtype: object,\n",
       " title                                          Cocoon: The Return\n",
       " type                                                        MOVIE\n",
       " description     the reinvigor elderli group that left earth co...\n",
       " genres                             ['scifi', 'comedy', 'romance']\n",
       " release_year                                                 1988\n",
       " tmdb_score                                                    6.1\n",
       " imdb_score                                                    5.4\n",
       " platform                                                      hbo\n",
       " combined        the reinvigor elderli group that left earth co...\n",
       " Name: 1852, dtype: object,\n",
       " title                                    The Matrix Resurrections\n",
       " type                                                        MOVIE\n",
       " description     plagu by strang memories, neo' life take an un...\n",
       " genres                                        ['scifi', 'action']\n",
       " release_year                                                 2021\n",
       " tmdb_score                                                    6.7\n",
       " imdb_score                                                    5.7\n",
       " platform                                                      hbo\n",
       " combined        plagu by strang memories, neo' life take an un...\n",
       " Name: 8332, dtype: object]"
      ]
     },
     "execution_count": 156,
     "metadata": {},
     "output_type": "execute_result"
    }
   ],
   "source": [
    "recommend(movies_df,'MOVIE','The Matrix', ['netflix','hulu','hbo'])"
   ]
  },
  {
   "cell_type": "markdown",
   "metadata": {},
   "source": [
    "## Testing"
   ]
  },
  {
   "cell_type": "code",
   "execution_count": 154,
   "metadata": {},
   "outputs": [],
   "source": [
    "def recommendation_accuracy(df, type, title, platforms):\n",
    "    recommends = recommend(df, type, title, platforms)\n",
    "    total = len(recommends)\n",
    "    count = 0\n",
    "    for x in recommends:\n",
    "        if movies_df[movies_df['title']==x].type.values[0] == type:\n",
    "            count += 0.5\n",
    "        if movies_df[movies_df['title']==x].platform.values[0] in platforms:\n",
    "            count += 0.5\n",
    "    return \"%.0f%%\" % (100 * count/total)"
   ]
  },
  {
   "cell_type": "code",
   "execution_count": 155,
   "metadata": {},
   "outputs": [
    {
     "ename": "ZeroDivisionError",
     "evalue": "division by zero",
     "output_type": "error",
     "traceback": [
      "\u001b[0;31m---------------------------------------------------------------------------\u001b[0m",
      "\u001b[0;31mZeroDivisionError\u001b[0m                         Traceback (most recent call last)",
      "Cell \u001b[0;32mIn[155], line 1\u001b[0m\n\u001b[0;32m----> 1\u001b[0m recommendation_accuracy(movies_df,\u001b[39m'\u001b[39;49m\u001b[39mMOVIE\u001b[39;49m\u001b[39m'\u001b[39;49m,\u001b[39m'\u001b[39;49m\u001b[39mThe Matrix\u001b[39;49m\u001b[39m'\u001b[39;49m, [\u001b[39m'\u001b[39;49m\u001b[39mhulu\u001b[39;49m\u001b[39m'\u001b[39;49m, \u001b[39m'\u001b[39;49m\u001b[39mnetflix\u001b[39;49m\u001b[39m'\u001b[39;49m])\n",
      "Cell \u001b[0;32mIn[154], line 10\u001b[0m, in \u001b[0;36mrecommendation_accuracy\u001b[0;34m(df, type, title, platforms)\u001b[0m\n\u001b[1;32m      8\u001b[0m     \u001b[39mif\u001b[39;00m movies_df[movies_df[\u001b[39m'\u001b[39m\u001b[39mtitle\u001b[39m\u001b[39m'\u001b[39m]\u001b[39m==\u001b[39mx]\u001b[39m.\u001b[39mplatform\u001b[39m.\u001b[39mvalues[\u001b[39m0\u001b[39m] \u001b[39min\u001b[39;00m platforms:\n\u001b[1;32m      9\u001b[0m         count \u001b[39m+\u001b[39m\u001b[39m=\u001b[39m \u001b[39m0.5\u001b[39m\n\u001b[0;32m---> 10\u001b[0m \u001b[39mreturn\u001b[39;00m \u001b[39m\"\u001b[39m\u001b[39m%.0f\u001b[39;00m\u001b[39m%%\u001b[39;00m\u001b[39m\"\u001b[39m \u001b[39m%\u001b[39m (\u001b[39m100\u001b[39;49m \u001b[39m*\u001b[39;49m count\u001b[39m/\u001b[39;49mtotal)\n",
      "\u001b[0;31mZeroDivisionError\u001b[0m: division by zero"
     ]
    }
   ],
   "source": [
    "recommendation_accuracy(movies_df,'MOVIE','The Matrix', ['hulu', 'netflix'])"
   ]
  }
 ],
 "metadata": {
  "kernelspec": {
   "display_name": "env",
   "language": "python",
   "name": "python3"
  },
  "language_info": {
   "codemirror_mode": {
    "name": "ipython",
    "version": 3
   },
   "file_extension": ".py",
   "mimetype": "text/x-python",
   "name": "python",
   "nbconvert_exporter": "python",
   "pygments_lexer": "ipython3",
   "version": "3.10.4"
  },
  "orig_nbformat": 4
 },
 "nbformat": 4,
 "nbformat_minor": 2
}
